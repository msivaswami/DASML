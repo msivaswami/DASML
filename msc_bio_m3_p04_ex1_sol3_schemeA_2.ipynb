{
  "cells": [
    {
      "cell_type": "markdown",
      "metadata": {
        "id": "view-in-github",
        "colab_type": "text"
      },
      "source": [
        "<a href=\"https://colab.research.google.com/github/msivaswami/DASML/blob/main/msc_bio_m3_p04_ex1_sol3_schemeA_2.ipynb\" target=\"_parent\"><img src=\"https://colab.research.google.com/assets/colab-badge.svg\" alt=\"Open In Colab\"/></a>"
      ]
    },
    {
      "cell_type": "code",
      "execution_count": 1,
      "metadata": {
        "id": "Oe-eB-nDoG7A"
      },
      "outputs": [],
      "source": [
        "import pandas as pd\n",
        "import matplotlib.pyplot as plt\n",
        "%matplotlib inline\n",
        "import seaborn as sns"
      ]
    },
    {
      "cell_type": "markdown",
      "metadata": {
        "id": "HJBpWZ_0oG7B"
      },
      "source": [
        "# Load the data"
      ]
    },
    {
      "cell_type": "code",
      "execution_count": 22,
      "metadata": {
        "colab": {
          "base_uri": "https://localhost:8080/",
          "height": 943
        },
        "id": "SKiYUtIIoG7C",
        "outputId": "7ea15ea5-7e4b-4da8-87a4-aa4b0825a280"
      },
      "outputs": [
        {
          "output_type": "stream",
          "name": "stdout",
          "text": [
            "        conf  class\n",
            "0   0.957937      0\n",
            "1   0.911074      1\n",
            "2   0.905274      0\n",
            "3   0.828289      0\n",
            "4   0.771493      0\n",
            "5   0.734521      0\n",
            "6   0.707922      1\n",
            "7   0.629599      0\n",
            "8   0.591506      1\n",
            "9   0.581087      1\n",
            "10  0.494376      1\n",
            "11  0.467995      0\n",
            "12  0.406688      0\n",
            "13  0.370380      0\n",
            "14  0.343088      1\n",
            "15  0.274384      1\n",
            "16  0.196315      1\n",
            "17  0.180886      1\n"
          ]
        },
        {
          "output_type": "execute_result",
          "data": {
            "text/plain": [
              "        conf  class\n",
              "17  0.051806      1\n",
              "16  0.114846      1\n",
              "15  0.134025      1\n",
              "14  0.200925      1\n",
              "13  0.223855      0\n",
              "12  0.257462      0\n",
              "11  0.258056      1\n",
              "10  0.334954      0\n",
              "9   0.445688      1\n",
              "8   0.524507      1\n",
              "7   0.535304      0\n",
              "6   0.537130      1\n",
              "5   0.583061      1\n",
              "4   0.649773      0\n",
              "3   0.714926      0\n",
              "2   0.831218      0\n",
              "1   0.886503      0\n",
              "0   0.908327      0"
            ],
            "text/html": [
              "\n",
              "  <div id=\"df-bc4f6092-44c8-4b71-9a3a-2ca6a0b500cb\" class=\"colab-df-container\">\n",
              "    <div>\n",
              "<style scoped>\n",
              "    .dataframe tbody tr th:only-of-type {\n",
              "        vertical-align: middle;\n",
              "    }\n",
              "\n",
              "    .dataframe tbody tr th {\n",
              "        vertical-align: top;\n",
              "    }\n",
              "\n",
              "    .dataframe thead th {\n",
              "        text-align: right;\n",
              "    }\n",
              "</style>\n",
              "<table border=\"1\" class=\"dataframe\">\n",
              "  <thead>\n",
              "    <tr style=\"text-align: right;\">\n",
              "      <th></th>\n",
              "      <th>conf</th>\n",
              "      <th>class</th>\n",
              "    </tr>\n",
              "  </thead>\n",
              "  <tbody>\n",
              "    <tr>\n",
              "      <th>17</th>\n",
              "      <td>0.051806</td>\n",
              "      <td>1</td>\n",
              "    </tr>\n",
              "    <tr>\n",
              "      <th>16</th>\n",
              "      <td>0.114846</td>\n",
              "      <td>1</td>\n",
              "    </tr>\n",
              "    <tr>\n",
              "      <th>15</th>\n",
              "      <td>0.134025</td>\n",
              "      <td>1</td>\n",
              "    </tr>\n",
              "    <tr>\n",
              "      <th>14</th>\n",
              "      <td>0.200925</td>\n",
              "      <td>1</td>\n",
              "    </tr>\n",
              "    <tr>\n",
              "      <th>13</th>\n",
              "      <td>0.223855</td>\n",
              "      <td>0</td>\n",
              "    </tr>\n",
              "    <tr>\n",
              "      <th>12</th>\n",
              "      <td>0.257462</td>\n",
              "      <td>0</td>\n",
              "    </tr>\n",
              "    <tr>\n",
              "      <th>11</th>\n",
              "      <td>0.258056</td>\n",
              "      <td>1</td>\n",
              "    </tr>\n",
              "    <tr>\n",
              "      <th>10</th>\n",
              "      <td>0.334954</td>\n",
              "      <td>0</td>\n",
              "    </tr>\n",
              "    <tr>\n",
              "      <th>9</th>\n",
              "      <td>0.445688</td>\n",
              "      <td>1</td>\n",
              "    </tr>\n",
              "    <tr>\n",
              "      <th>8</th>\n",
              "      <td>0.524507</td>\n",
              "      <td>1</td>\n",
              "    </tr>\n",
              "    <tr>\n",
              "      <th>7</th>\n",
              "      <td>0.535304</td>\n",
              "      <td>0</td>\n",
              "    </tr>\n",
              "    <tr>\n",
              "      <th>6</th>\n",
              "      <td>0.537130</td>\n",
              "      <td>1</td>\n",
              "    </tr>\n",
              "    <tr>\n",
              "      <th>5</th>\n",
              "      <td>0.583061</td>\n",
              "      <td>1</td>\n",
              "    </tr>\n",
              "    <tr>\n",
              "      <th>4</th>\n",
              "      <td>0.649773</td>\n",
              "      <td>0</td>\n",
              "    </tr>\n",
              "    <tr>\n",
              "      <th>3</th>\n",
              "      <td>0.714926</td>\n",
              "      <td>0</td>\n",
              "    </tr>\n",
              "    <tr>\n",
              "      <th>2</th>\n",
              "      <td>0.831218</td>\n",
              "      <td>0</td>\n",
              "    </tr>\n",
              "    <tr>\n",
              "      <th>1</th>\n",
              "      <td>0.886503</td>\n",
              "      <td>0</td>\n",
              "    </tr>\n",
              "    <tr>\n",
              "      <th>0</th>\n",
              "      <td>0.908327</td>\n",
              "      <td>0</td>\n",
              "    </tr>\n",
              "  </tbody>\n",
              "</table>\n",
              "</div>\n",
              "    <div class=\"colab-df-buttons\">\n",
              "\n",
              "  <div class=\"colab-df-container\">\n",
              "    <button class=\"colab-df-convert\" onclick=\"convertToInteractive('df-bc4f6092-44c8-4b71-9a3a-2ca6a0b500cb')\"\n",
              "            title=\"Convert this dataframe to an interactive table.\"\n",
              "            style=\"display:none;\">\n",
              "\n",
              "  <svg xmlns=\"http://www.w3.org/2000/svg\" height=\"24px\" viewBox=\"0 -960 960 960\">\n",
              "    <path d=\"M120-120v-720h720v720H120Zm60-500h600v-160H180v160Zm220 220h160v-160H400v160Zm0 220h160v-160H400v160ZM180-400h160v-160H180v160Zm440 0h160v-160H620v160ZM180-180h160v-160H180v160Zm440 0h160v-160H620v160Z\"/>\n",
              "  </svg>\n",
              "    </button>\n",
              "\n",
              "  <style>\n",
              "    .colab-df-container {\n",
              "      display:flex;\n",
              "      gap: 12px;\n",
              "    }\n",
              "\n",
              "    .colab-df-convert {\n",
              "      background-color: #E8F0FE;\n",
              "      border: none;\n",
              "      border-radius: 50%;\n",
              "      cursor: pointer;\n",
              "      display: none;\n",
              "      fill: #1967D2;\n",
              "      height: 32px;\n",
              "      padding: 0 0 0 0;\n",
              "      width: 32px;\n",
              "    }\n",
              "\n",
              "    .colab-df-convert:hover {\n",
              "      background-color: #E2EBFA;\n",
              "      box-shadow: 0px 1px 2px rgba(60, 64, 67, 0.3), 0px 1px 3px 1px rgba(60, 64, 67, 0.15);\n",
              "      fill: #174EA6;\n",
              "    }\n",
              "\n",
              "    .colab-df-buttons div {\n",
              "      margin-bottom: 4px;\n",
              "    }\n",
              "\n",
              "    [theme=dark] .colab-df-convert {\n",
              "      background-color: #3B4455;\n",
              "      fill: #D2E3FC;\n",
              "    }\n",
              "\n",
              "    [theme=dark] .colab-df-convert:hover {\n",
              "      background-color: #434B5C;\n",
              "      box-shadow: 0px 1px 3px 1px rgba(0, 0, 0, 0.15);\n",
              "      filter: drop-shadow(0px 1px 2px rgba(0, 0, 0, 0.3));\n",
              "      fill: #FFFFFF;\n",
              "    }\n",
              "  </style>\n",
              "\n",
              "    <script>\n",
              "      const buttonEl =\n",
              "        document.querySelector('#df-bc4f6092-44c8-4b71-9a3a-2ca6a0b500cb button.colab-df-convert');\n",
              "      buttonEl.style.display =\n",
              "        google.colab.kernel.accessAllowed ? 'block' : 'none';\n",
              "\n",
              "      async function convertToInteractive(key) {\n",
              "        const element = document.querySelector('#df-bc4f6092-44c8-4b71-9a3a-2ca6a0b500cb');\n",
              "        const dataTable =\n",
              "          await google.colab.kernel.invokeFunction('convertToInteractive',\n",
              "                                                    [key], {});\n",
              "        if (!dataTable) return;\n",
              "\n",
              "        const docLinkHtml = 'Like what you see? Visit the ' +\n",
              "          '<a target=\"_blank\" href=https://colab.research.google.com/notebooks/data_table.ipynb>data table notebook</a>'\n",
              "          + ' to learn more about interactive tables.';\n",
              "        element.innerHTML = '';\n",
              "        dataTable['output_type'] = 'display_data';\n",
              "        await google.colab.output.renderOutput(dataTable, element);\n",
              "        const docLink = document.createElement('div');\n",
              "        docLink.innerHTML = docLinkHtml;\n",
              "        element.appendChild(docLink);\n",
              "      }\n",
              "    </script>\n",
              "  </div>\n",
              "\n",
              "\n",
              "<div id=\"df-39a6fe9e-d228-499f-bda5-a6a1448224b2\">\n",
              "  <button class=\"colab-df-quickchart\" onclick=\"quickchart('df-39a6fe9e-d228-499f-bda5-a6a1448224b2')\"\n",
              "            title=\"Suggest charts\"\n",
              "            style=\"display:none;\">\n",
              "\n",
              "<svg xmlns=\"http://www.w3.org/2000/svg\" height=\"24px\"viewBox=\"0 0 24 24\"\n",
              "     width=\"24px\">\n",
              "    <g>\n",
              "        <path d=\"M19 3H5c-1.1 0-2 .9-2 2v14c0 1.1.9 2 2 2h14c1.1 0 2-.9 2-2V5c0-1.1-.9-2-2-2zM9 17H7v-7h2v7zm4 0h-2V7h2v10zm4 0h-2v-4h2v4z\"/>\n",
              "    </g>\n",
              "</svg>\n",
              "  </button>\n",
              "\n",
              "<style>\n",
              "  .colab-df-quickchart {\n",
              "      --bg-color: #E8F0FE;\n",
              "      --fill-color: #1967D2;\n",
              "      --hover-bg-color: #E2EBFA;\n",
              "      --hover-fill-color: #174EA6;\n",
              "      --disabled-fill-color: #AAA;\n",
              "      --disabled-bg-color: #DDD;\n",
              "  }\n",
              "\n",
              "  [theme=dark] .colab-df-quickchart {\n",
              "      --bg-color: #3B4455;\n",
              "      --fill-color: #D2E3FC;\n",
              "      --hover-bg-color: #434B5C;\n",
              "      --hover-fill-color: #FFFFFF;\n",
              "      --disabled-bg-color: #3B4455;\n",
              "      --disabled-fill-color: #666;\n",
              "  }\n",
              "\n",
              "  .colab-df-quickchart {\n",
              "    background-color: var(--bg-color);\n",
              "    border: none;\n",
              "    border-radius: 50%;\n",
              "    cursor: pointer;\n",
              "    display: none;\n",
              "    fill: var(--fill-color);\n",
              "    height: 32px;\n",
              "    padding: 0;\n",
              "    width: 32px;\n",
              "  }\n",
              "\n",
              "  .colab-df-quickchart:hover {\n",
              "    background-color: var(--hover-bg-color);\n",
              "    box-shadow: 0 1px 2px rgba(60, 64, 67, 0.3), 0 1px 3px 1px rgba(60, 64, 67, 0.15);\n",
              "    fill: var(--button-hover-fill-color);\n",
              "  }\n",
              "\n",
              "  .colab-df-quickchart-complete:disabled,\n",
              "  .colab-df-quickchart-complete:disabled:hover {\n",
              "    background-color: var(--disabled-bg-color);\n",
              "    fill: var(--disabled-fill-color);\n",
              "    box-shadow: none;\n",
              "  }\n",
              "\n",
              "  .colab-df-spinner {\n",
              "    border: 2px solid var(--fill-color);\n",
              "    border-color: transparent;\n",
              "    border-bottom-color: var(--fill-color);\n",
              "    animation:\n",
              "      spin 1s steps(1) infinite;\n",
              "  }\n",
              "\n",
              "  @keyframes spin {\n",
              "    0% {\n",
              "      border-color: transparent;\n",
              "      border-bottom-color: var(--fill-color);\n",
              "      border-left-color: var(--fill-color);\n",
              "    }\n",
              "    20% {\n",
              "      border-color: transparent;\n",
              "      border-left-color: var(--fill-color);\n",
              "      border-top-color: var(--fill-color);\n",
              "    }\n",
              "    30% {\n",
              "      border-color: transparent;\n",
              "      border-left-color: var(--fill-color);\n",
              "      border-top-color: var(--fill-color);\n",
              "      border-right-color: var(--fill-color);\n",
              "    }\n",
              "    40% {\n",
              "      border-color: transparent;\n",
              "      border-right-color: var(--fill-color);\n",
              "      border-top-color: var(--fill-color);\n",
              "    }\n",
              "    60% {\n",
              "      border-color: transparent;\n",
              "      border-right-color: var(--fill-color);\n",
              "    }\n",
              "    80% {\n",
              "      border-color: transparent;\n",
              "      border-right-color: var(--fill-color);\n",
              "      border-bottom-color: var(--fill-color);\n",
              "    }\n",
              "    90% {\n",
              "      border-color: transparent;\n",
              "      border-bottom-color: var(--fill-color);\n",
              "    }\n",
              "  }\n",
              "</style>\n",
              "\n",
              "  <script>\n",
              "    async function quickchart(key) {\n",
              "      const quickchartButtonEl =\n",
              "        document.querySelector('#' + key + ' button');\n",
              "      quickchartButtonEl.disabled = true;  // To prevent multiple clicks.\n",
              "      quickchartButtonEl.classList.add('colab-df-spinner');\n",
              "      try {\n",
              "        const charts = await google.colab.kernel.invokeFunction(\n",
              "            'suggestCharts', [key], {});\n",
              "      } catch (error) {\n",
              "        console.error('Error during call to suggestCharts:', error);\n",
              "      }\n",
              "      quickchartButtonEl.classList.remove('colab-df-spinner');\n",
              "      quickchartButtonEl.classList.add('colab-df-quickchart-complete');\n",
              "    }\n",
              "    (() => {\n",
              "      let quickchartButtonEl =\n",
              "        document.querySelector('#df-39a6fe9e-d228-499f-bda5-a6a1448224b2 button');\n",
              "      quickchartButtonEl.style.display =\n",
              "        google.colab.kernel.accessAllowed ? 'block' : 'none';\n",
              "    })();\n",
              "  </script>\n",
              "</div>\n",
              "\n",
              "  <div id=\"id_35b07b3c-3234-46d4-8f4e-2f948e7d3e61\">\n",
              "    <style>\n",
              "      .colab-df-generate {\n",
              "        background-color: #E8F0FE;\n",
              "        border: none;\n",
              "        border-radius: 50%;\n",
              "        cursor: pointer;\n",
              "        display: none;\n",
              "        fill: #1967D2;\n",
              "        height: 32px;\n",
              "        padding: 0 0 0 0;\n",
              "        width: 32px;\n",
              "      }\n",
              "\n",
              "      .colab-df-generate:hover {\n",
              "        background-color: #E2EBFA;\n",
              "        box-shadow: 0px 1px 2px rgba(60, 64, 67, 0.3), 0px 1px 3px 1px rgba(60, 64, 67, 0.15);\n",
              "        fill: #174EA6;\n",
              "      }\n",
              "\n",
              "      [theme=dark] .colab-df-generate {\n",
              "        background-color: #3B4455;\n",
              "        fill: #D2E3FC;\n",
              "      }\n",
              "\n",
              "      [theme=dark] .colab-df-generate:hover {\n",
              "        background-color: #434B5C;\n",
              "        box-shadow: 0px 1px 3px 1px rgba(0, 0, 0, 0.15);\n",
              "        filter: drop-shadow(0px 1px 2px rgba(0, 0, 0, 0.3));\n",
              "        fill: #FFFFFF;\n",
              "      }\n",
              "    </style>\n",
              "    <button class=\"colab-df-generate\" onclick=\"generateWithVariable('sorted_df')\"\n",
              "            title=\"Generate code using this dataframe.\"\n",
              "            style=\"display:none;\">\n",
              "\n",
              "  <svg xmlns=\"http://www.w3.org/2000/svg\" height=\"24px\"viewBox=\"0 0 24 24\"\n",
              "       width=\"24px\">\n",
              "    <path d=\"M7,19H8.4L18.45,9,17,7.55,7,17.6ZM5,21V16.75L18.45,3.32a2,2,0,0,1,2.83,0l1.4,1.43a1.91,1.91,0,0,1,.58,1.4,1.91,1.91,0,0,1-.58,1.4L9.25,21ZM18.45,9,17,7.55Zm-12,3A5.31,5.31,0,0,0,4.9,8.1,5.31,5.31,0,0,0,1,6.5,5.31,5.31,0,0,0,4.9,4.9,5.31,5.31,0,0,0,6.5,1,5.31,5.31,0,0,0,8.1,4.9,5.31,5.31,0,0,0,12,6.5,5.46,5.46,0,0,0,6.5,12Z\"/>\n",
              "  </svg>\n",
              "    </button>\n",
              "    <script>\n",
              "      (() => {\n",
              "      const buttonEl =\n",
              "        document.querySelector('#id_35b07b3c-3234-46d4-8f4e-2f948e7d3e61 button.colab-df-generate');\n",
              "      buttonEl.style.display =\n",
              "        google.colab.kernel.accessAllowed ? 'block' : 'none';\n",
              "\n",
              "      buttonEl.onclick = () => {\n",
              "        google.colab.notebook.generateWithVariable('sorted_df');\n",
              "      }\n",
              "      })();\n",
              "    </script>\n",
              "  </div>\n",
              "\n",
              "    </div>\n",
              "  </div>\n"
            ]
          },
          "metadata": {},
          "execution_count": 22
        }
      ],
      "source": [
        "df_a = pd.read_csv('scheme_A.csv')\n",
        "df_b = pd.read_csv('scheme_B.csv')\n",
        "print(df_b)\n",
        "df_a[df_a['conf']>0.5]\n",
        "\n",
        "sorted_df = df_a.sort_values(by='conf',ascending = True )\n",
        "\n",
        "sorted_df"
      ]
    },
    {
      "cell_type": "markdown",
      "metadata": {
        "id": "iRM739vyoG7C"
      },
      "source": [
        "# Calculate performance measures\n",
        "\n",
        "## Simple\n",
        "\n",
        "\n",
        "```python\n",
        "df_a[df_a['conf']>0.5]\n",
        "```\n",
        "\n",
        "would return all entries with conf >0.5\n",
        "\n",
        "```python\n",
        "df_a[(df_a['conf']>0.5)&(df_a['class']==0)]\n",
        "```\n",
        "\n",
        "returns all entires with conf >0.5 AND class==0\n",
        "\n",
        "\n",
        "and taking the length ```len(...)``` just measures the length of the resulting data\n",
        "\n",
        "```python\n",
        "len(df_a[(df_a['conf']>0.5)&(df_a['class']==0)])\n",
        "```\n",
        "\n",
        "\n",
        "Please try out all individually, too.\n",
        "\n"
      ]
    },
    {
      "cell_type": "code",
      "execution_count": 28,
      "metadata": {
        "colab": {
          "base_uri": "https://localhost:8080/"
        },
        "id": "cuiTg3_OoG7C",
        "outputId": "79a0b7f0-19d2-4933-9b68-f8a5fb648d9a"
      },
      "outputs": [
        {
          "output_type": "stream",
          "name": "stdout",
          "text": [
            "       conf  class\n",
            "0  0.908327      0\n",
            "1  0.886503      0\n",
            "2  0.831218      0\n",
            "3  0.714926      0\n",
            "4  0.649773      0\n",
            "7  0.535304      0\n"
          ]
        }
      ],
      "source": [
        "\n",
        "# TP\n",
        "#a_tp = len(df_a[(df_a['conf']>0.5)&(df_a['class']==0)])\n",
        "print(df_a[(df_a['conf']>0.5)&(df_a['class']==0)])\n",
        "# FN\n",
        "a_fn = len(df_a[(df_a['conf']>0.5)&(df_a['class']==1)])\n",
        "# TN\n",
        "a_tn = len(df_a[(df_a['conf']<=0.5)&(df_a['class']==1)])\n",
        "# FP\n",
        "a_fp = len(df_a[(df_a['conf']<=0.5)&(df_a['class']==0)])\n",
        "\n",
        "\n",
        "\n"
      ]
    },
    {
      "cell_type": "markdown",
      "metadata": {
        "id": "ujH_Wb3MoG7C"
      },
      "source": [
        "## Slightly more complex\n",
        "\n",
        "Here, we are using:\n",
        "* a function\n",
        "* a variable value for the confidence (parameter ```split_value```in the function)\n",
        "* and we are storing the results in a dictionary for reusability\n",
        "\n",
        "The function takes an additional parameter for the definition of what should be considered 'positive'.\n",
        "\n",
        "I put the parameter\n",
        "\n",
        "```python\n",
        "calculate_measures=True\n",
        "```\n",
        "in later on, to only get TP,FN,FN,TN s"
      ]
    },
    {
      "cell_type": "code",
      "execution_count": 29,
      "metadata": {
        "id": "cE4ixas3oG7D"
      },
      "outputs": [],
      "source": [
        "def get_results(df_predictor,split_value=0.5,positive=0,calculate_measures=True):\n",
        "    res = {\n",
        "        }\n",
        "\n",
        "    # TP\n",
        "    res['TP'] = len(df_predictor[(df_predictor['conf']>=split_value)&(df_predictor['class']==positive)])\n",
        "    # FN\n",
        "    res['FN'] = len(df_predictor[(df_predictor['conf']>=split_value)&(df_predictor['class']!=positive)])\n",
        "    # TN\n",
        "    res['TN'] = len(df_predictor[(df_predictor['conf']<split_value)&(df_predictor['class']!=positive)])\n",
        "    # FP\n",
        "    res['FP'] = len(df_predictor[(df_predictor['conf']<split_value)&(df_predictor['class']==positive)])\n",
        "\n",
        "    if calculate_measures:\n",
        "        # accuracy. precision, recall, etc.\n",
        "        res['accuracy']   = (res['TP']+res['TN'])/(res['TP']+res['FN']+res['TN']+res['FP'])\n",
        "        res['precision']  = (res['TP'])          /(res['TP']+res['FP'])\n",
        "        res['recall']     = (res['TP'])          /(res['TP']+res['FN'])\n",
        "        res['error rate'] = 1-res['accuracy']\n",
        "        res['f1']         = 2 * (res['precision'] * res['recall']) / (res['precision'] + res['recall'])\n",
        "\n",
        "        res['tpr']        = res['recall']\n",
        "        res['fpr']        = (res['FP'])          /(res['FP']+res['TN'])\n",
        "\n",
        "\n",
        "    return res\n",
        "\n",
        "\n",
        "a = get_results(df_a)\n",
        "b = get_results(df_b)\n"
      ]
    },
    {
      "cell_type": "code",
      "execution_count": 30,
      "metadata": {
        "colab": {
          "base_uri": "https://localhost:8080/"
        },
        "id": "5nQfjSO3oG7D",
        "outputId": "b515ed2c-ca2b-406e-9317-52ffc585a5d3"
      },
      "outputs": [
        {
          "output_type": "execute_result",
          "data": {
            "text/plain": [
              "({'TP': 6,\n",
              "  'FN': 3,\n",
              "  'TN': 6,\n",
              "  'FP': 3,\n",
              "  'accuracy': 0.6666666666666666,\n",
              "  'precision': 0.6666666666666666,\n",
              "  'recall': 0.6666666666666666,\n",
              "  'error rate': 0.33333333333333337,\n",
              "  'f1': 0.6666666666666666,\n",
              "  'tpr': 0.6666666666666666,\n",
              "  'fpr': 0.3333333333333333},\n",
              " {'TP': 6,\n",
              "  'FN': 4,\n",
              "  'TN': 5,\n",
              "  'FP': 3,\n",
              "  'accuracy': 0.6111111111111112,\n",
              "  'precision': 0.6666666666666666,\n",
              "  'recall': 0.6,\n",
              "  'error rate': 0.38888888888888884,\n",
              "  'f1': 0.631578947368421,\n",
              "  'tpr': 0.6,\n",
              "  'fpr': 0.375})"
            ]
          },
          "metadata": {},
          "execution_count": 30
        }
      ],
      "source": [
        "a,b"
      ]
    },
    {
      "cell_type": "markdown",
      "metadata": {
        "id": "wiyC3T-NoG7D"
      },
      "source": [
        "# ROC curve\n",
        "\n",
        "First we ensure that the dataframe is sorted by confidence values\n",
        "We use ```inplace```to tell teh sorting that we want the results to be stored in the same dataframe and\n",
        "```ascending=False``` to denote that we want it in descending order"
      ]
    },
    {
      "cell_type": "code",
      "execution_count": 31,
      "metadata": {
        "id": "gDCyiDYNoG7D"
      },
      "outputs": [],
      "source": [
        "df_a.sort_values(['conf'],inplace=True,ascending=False)\n",
        "df_b.sort_values(['conf'],inplace=True,ascending=False)"
      ]
    },
    {
      "cell_type": "markdown",
      "metadata": {
        "id": "_aiBZYOooG7D"
      },
      "source": [
        "## Calculate the absolute numbers for TP and FN re-using the function from before\n",
        "it uses ```DataFrame.apply()``` which allows to apply an arbitrary function of a particular column\n",
        "Furthermore, it uses an unnamed lambda function , taking each\n",
        "value from 'conf' and calls the ```get_results``` from before\n"
      ]
    },
    {
      "cell_type": "code",
      "execution_count": 32,
      "metadata": {
        "id": "QArQMb30oG7D"
      },
      "outputs": [],
      "source": [
        "df_a['TP'] = df_a['conf'].apply(lambda x: get_results(df_a,split_value=x,calculate_measures=False)['TP'])\n",
        "df_a['FN'] = df_a['conf'].apply(lambda x: get_results(df_a,split_value=x,calculate_measures=False)['FN'])"
      ]
    },
    {
      "cell_type": "markdown",
      "metadata": {
        "id": "DenvU1rpoG7E"
      },
      "source": [
        "### Get the rates\n",
        "\n",
        "Now, just take the maximum number of TPs (=total number of positives) and maximum FN (=total number of negatives)"
      ]
    },
    {
      "cell_type": "code",
      "execution_count": 33,
      "metadata": {
        "id": "aQygYLVSoG7E"
      },
      "outputs": [],
      "source": [
        "df_a['tpr'] = df_a['TP']/df_a['TP'].max()\n",
        "df_a['fpr'] = df_a['FN']/df_a['FN'].max()\n"
      ]
    },
    {
      "cell_type": "code",
      "execution_count": 34,
      "metadata": {
        "colab": {
          "base_uri": "https://localhost:8080/",
          "height": 781
        },
        "id": "e7yAVRRMoG7E",
        "outputId": "b63dcca7-8df1-4e89-da6e-bcd70e8da977"
      },
      "outputs": [
        {
          "output_type": "display_data",
          "data": {
            "text/plain": [
              "<Figure size 1000x1000 with 1 Axes>"
            ],
            "image/png": "[encoded data removed]"
          },
          "metadata": {}
        }
      ],
      "source": [
        "plt.figure(figsize = (10, 10)) # determines the size of the plot area\n",
        "\n",
        "ax = sns.lineplot(x='fpr',y='tpr',data=df_a)\n"
      ]
    },
    {
      "cell_type": "code",
      "execution_count": 36,
      "metadata": {
        "id": "IoA-KP1FoG7E"
      },
      "outputs": [],
      "source": [
        "df_b['TP'] = df_a['conf'].apply(lambda x: get_results(df_b,split_value=x,calculate_measures=False)['TP'])\n",
        "df_b['FN'] = df_a['conf'].apply(lambda x: get_results(df_b,split_value=x,calculate_measures=False)['FN'])"
      ]
    },
    {
      "cell_type": "code",
      "execution_count": 37,
      "metadata": {
        "id": "1cNDhpynoG7E"
      },
      "outputs": [],
      "source": [
        "df_b['tpr'] = df_b['TP']/df_b['TP'].max()\n",
        "df_b['fpr'] = df_b['FN']/df_b['FN'].max()"
      ]
    },
    {
      "cell_type": "code",
      "execution_count": 38,
      "metadata": {
        "colab": {
          "base_uri": "https://localhost:8080/",
          "height": 781
        },
        "id": "vvqnOYULoG7E",
        "outputId": "b7ce3296-f131-4482-99ab-6891fe8d7699"
      },
      "outputs": [
        {
          "output_type": "display_data",
          "data": {
            "text/plain": [
              "<Figure size 1000x1000 with 1 Axes>"
            ],
            "image/png": "[encoded data removed]"
          },
          "metadata": {}
        }
      ],
      "source": [
        "plt.figure(figsize = (10, 10)) # determines the size of the plot area\n",
        "\n",
        "bx = sns.lineplot(x='fpr',y='tpr',data=df_b)\n",
        "\n"
      ]
    },
    {
      "cell_type": "code",
      "source": [],
      "metadata": {
        "id": "-gQShulj3pfc"
      },
      "execution_count": null,
      "outputs": []
    }
  ],
  "metadata": {
    "kernelspec": {
      "display_name": "Python 3",
      "language": "python",
      "name": "python3"
    },
    "language_info": {
      "codemirror_mode": {
        "name": "ipython",
        "version": 3
      },
      "file_extension": ".py",
      "mimetype": "text/x-python",
      "name": "python",
      "nbconvert_exporter": "python",
      "pygments_lexer": "ipython3",
      "version": "3.7.4"
    },
    "colab": {
      "provenance": [],
      "toc_visible": true,
      "include_colab_link": true
    }
  },
  "nbformat": 4,
  "nbformat_minor": 0
}